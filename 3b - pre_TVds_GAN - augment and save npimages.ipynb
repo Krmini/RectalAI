{
 "cells": [
  {
   "cell_type": "code",
   "execution_count": null,
   "metadata": {},
   "outputs": [],
   "source": [
    "import sys\n",
    "sys.path.append('/tf/data')\n",
    "\n",
    "import os\n",
    "import numpy as np\n",
    "import tensorflow as tf\n",
    "import tensorflow_addons as tfa\n",
    "from tqdm import tqdm\n",
    "\n",
    "from general_func import load_dataset"
   ]
  },
  {
   "cell_type": "code",
   "execution_count": null,
   "metadata": {},
   "outputs": [],
   "source": [
    "#load dataset\n",
    "positive = False\n",
    "savepath = \"/tf/data/augmented_64_3ch/\"\n",
    "new_height = 64\n",
    "new_width = 64\n",
    "\n",
    "ds = load_dataset(positive=positive)\n",
    "if positive == False:\n",
    "    savepath = savepath+'0'\n",
    "else:\n",
    "    savepath = savepath+'1'\n",
    "os.makedirs(savepath, exist_ok=True)\n",
    "print(savepath)"
   ]
  },
  {
   "cell_type": "code",
   "execution_count": null,
   "metadata": {},
   "outputs": [],
   "source": [
    "orig_hight = 162\n",
    "orig_width = 141\n",
    "num_slices = 46\n",
    "train_scans = list(np.array([x[1] for x,_ in ds]))\n",
    "train_scans = (np.reshape(train_scans,[len(ds), num_slices, orig_hight, orig_width, 1]))\n",
    "print(1,train_scans.shape)\n",
    "#Perform data augmentations\n",
    "#Linearly scales each image in image to have mean 0 and variance 1.\n",
    "train_scans = [tf.image.per_image_standardization(scan) for scan in train_scans] #Linearly scales each image in image to have mean 0 and variance 1.\n",
    "\n",
    "print('original', len(train_scans))\n",
    "count = 0\n",
    "for idx, scan in enumerate(tqdm(train_scans, desc='Augmenting')):\n",
    "    i = 0\n",
    "    for angle in [-0.05, -0.025, 0, 0.025, 0.05]:\n",
    "        scan_a = tfa.image.rotate(images = scan, angles = angle, fill_mode='nearest')\n",
    "        for contrast in [0.8, 0.9, 1.1, 1.2]:\n",
    "            scan_b = tf.image.adjust_contrast(scan_a, contrast_factor = contrast)\n",
    "            for brightness in [-0.1, 0.1]:\n",
    "                scan_c = tf.image.adjust_brightness(scan_b, delta=brightness) #could have used tf.image.random_brightness but prefer to use fixes values for reproducibility.\n",
    "                for flip in [True, False]:\n",
    "                    i += 1\n",
    "                    if flip == True:\n",
    "                        scan_d = tf.image.flip_left_right(scan_c)\n",
    "                    else:\n",
    "                        scan_d = scan_c\n",
    "                    scan_d = tf.image.resize(scan_d, [new_height, new_width])\n",
    "                    scan_d = tf.image.grayscale_to_rgb(scan_d)\n",
    "                    scan_d1 = scan_d[::2]\n",
    "                    scan_np = scan_d1.numpy()\n",
    "                    scan_np = np.concatenate((scan_np), axis = 1)\n",
    "                    np.save(file = f\"{savepath}/image_{idx:04d}_{i:03d}\", arr = scan_np)\n",
    "\n",
    "                    i += 1\n",
    "                    scan_d2 = scan_d[1::2]\n",
    "                    scan_np = scan_d2.numpy()\n",
    "                    scan_np = np.concatenate((scan_np), axis = 1)\n",
    "                    np.save(file = f\"{savepath}/image_{idx:04d}_{i:03d}\", arr = scan_np)\n",
    "    count += i\n",
    "print('Final format:', scan_np.shape)\n",
    "print(count,'files saved to', savepath)"
   ]
  }
 ],
 "metadata": {
  "kernelspec": {
   "display_name": "Python 3 (ipykernel)",
   "language": "python",
   "name": "python3"
  },
  "language_info": {
   "codemirror_mode": {
    "name": "ipython",
    "version": 3
   },
   "file_extension": ".py",
   "mimetype": "text/x-python",
   "name": "python",
   "nbconvert_exporter": "python",
   "pygments_lexer": "ipython3",
   "version": "3.11.0rc1"
  }
 },
 "nbformat": 4,
 "nbformat_minor": 4
}
