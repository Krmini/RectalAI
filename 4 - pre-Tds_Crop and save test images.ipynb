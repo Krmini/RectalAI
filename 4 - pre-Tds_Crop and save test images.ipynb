{
 "cells": [
  {
   "cell_type": "code",
   "execution_count": null,
   "id": "32203d4f-e55f-4e7c-a1e4-d6b5d5249931",
   "metadata": {
    "editable": true,
    "slideshow": {
     "slide_type": ""
    },
    "tags": []
   },
   "outputs": [],
   "source": [
    "from pathlib import Path\n",
    "import pydicom\n",
    "import numpy as np"
   ]
  },
  {
   "cell_type": "code",
   "execution_count": null,
   "id": "71ce79df-a67f-4fa2-ba80-2aa4af0df1ad",
   "metadata": {
    "editable": true,
    "slideshow": {
     "slide_type": ""
    },
    "tags": []
   },
   "outputs": [],
   "source": [
    "#Code is created to handle both sagital and transversal scans.\n",
    "\n",
    "#Define crop size for each scan size.\n",
    "crop_sag320 = [[0, 20], #sag_x\n",
    "               [70, 280], #sag_z\n",
    "               [150, 285]] #sag_y\n",
    "crop_sag384 = [[0, 20], #sag_x\n",
    "               [70, 280], #sag_z\n",
    "               [170, 305]] #sag_y\n",
    "crop_sag576 = [[0, 20], #sag_x\n",
    "               [120, 330], #sag_z\n",
    "               [185, 320]] #sag_y\n",
    "\n",
    "\n",
    "crop_tra448 = [[8, 62-8], #tra_z\n",
    "               [205, 367], #tra_y\n",
    "               [156, 297]] #tra_x\n",
    "\n",
    "crop_tra528 = [[8, 62-8], #tra_z\n",
    "               [255, 417], #tra_y\n",
    "               [156+30, 297+30]] #tra_x\n",
    "\n",
    "crop_tra528_68 = [[8+5, 62-3], #tra_z\n",
    "               [255, 417], #tra_y\n",
    "               [156+30, 297+30]] #tra_x\n",
    "\n",
    "crop_tra528_70 = [[8, 62-8], #tra_z\n",
    "               [255, 417], #tra_y\n",
    "               [156+30, 297+30]] #tra_x\n",
    "\n",
    "crop_tra528_72 = [[8, 62-8], #tra_z\n",
    "               [255, 417], #tra_y\n",
    "               [156+30, 297+30]] #tra_x\n",
    "\n",
    "crop_tra528_74 = [[8+12, 62+4], #tra_z\n",
    "               [255, 417], #tra_y\n",
    "               [156+30, 297+30]] #tra_x\n",
    "\n",
    "def crop_vol(volume, crop_values):\n",
    "    volume_new = volume[\n",
    "        crop_values[0][0]:crop_values[0][1],\n",
    "        crop_values[1][0]:crop_values[1][1], #Højde\n",
    "        crop_values[2][0]:crop_values[2][1]] #Bredde\n",
    "    return volume_new, crop_values"
   ]
  },
  {
   "cell_type": "code",
   "execution_count": null,
   "id": "8f72c143-5640-4133-8021-c64beeb5f90a",
   "metadata": {},
   "outputs": [],
   "source": [
    "data_folder = Path('/tf/data')\n",
    "folders = ['/tf/data/endo',\n",
    "           '/tf/data/prost',\n",
    "           '/tf/data/recti']"
   ]
  },
  {
   "cell_type": "code",
   "execution_count": null,
   "id": "cd00b6f1-f06a-45a7-be9d-fff04583c26d",
   "metadata": {
    "editable": true,
    "slideshow": {
     "slide_type": ""
    },
    "tags": []
   },
   "outputs": [],
   "source": [
    "#Look through all folders\n",
    "n = 0\n",
    "for folder in folders:\n",
    "    for case in Path(folder).glob('8*'): #all Test cases starts with 8\n",
    "        for scan in case.iterdir():\n",
    "            dicom_files = [file for file in scan.iterdir()]\n",
    "            slice_location_map = {}\n",
    "            \n",
    "            #Find slice location for all scans\n",
    "            for file in dicom_files:\n",
    "                dicom = pydicom.dcmread(file)\n",
    "                slice_location_map[file] = dicom.SliceLocation\n",
    "            \n",
    "            #Sort scans by slicelocation\n",
    "            dicom_files.sort(key=lambda x: slice_location_map[x])\n",
    "    \n",
    "            #Define volume\n",
    "            volume = []\n",
    "            for dicom in dicom_files:\n",
    "                image = pydicom.dcmread(dicom)\n",
    "                volume.append(image.pixel_array)\n",
    "            volume = np.array(volume)\n",
    "    \n",
    "            #Crop if sagital scan and print original and cropped slices.\n",
    "            if 'SAG' in str(scan):\n",
    "                if volume.shape == (20,320,320):\n",
    "                    volume_new, crop_values = crop_vol(volume, crop_sag320)\n",
    "            \n",
    "                elif volume.shape == (20,384,384):\n",
    "                    volume_new, crop_values = crop_vol(volume, crop_sag384)\n",
    "\n",
    "                elif volume.shape == (20, 576, 576):\n",
    "                    volume_new, crop_values = crop_vol(volume, crop_sag576)\n",
    "    \n",
    "                #Stop iteration if scan is not accounted for in if statements\n",
    "                else:\n",
    "                    print(volume.shape, scan)\n",
    "                    raise ValueError()\n",
    "    \n",
    "            #Crop if transversal scan and print original and cropped slices.\n",
    "            if 'TRA' in str(scan) or 'TSE' in str(scan):\n",
    "                if volume.shape == (62,448,448) or volume.shape == (65,448,448):\n",
    "                    volume_new, crop_values = crop_vol(volume, crop_tra448)\n",
    "                                 \n",
    "                elif volume.shape == (66,528,528):\n",
    "                    volume_new, crop_values = crop_vol(volume, crop_tra528)\n",
    "                \n",
    "                elif volume.shape == (68,528,528):\n",
    "                    volume_new, crop_values = crop_vol(volume, crop_tra528_68)\n",
    "                    \n",
    "                elif volume.shape == (70,528,528):\n",
    "                    volume_new, crop_values = crop_vol(volume, crop_tra528_70)\n",
    "                    \n",
    "                elif volume.shape == (72,528,528):\n",
    "                    volume_new, crop_values = crop_vol(volume, crop_tra528_72)\n",
    "    \n",
    "                elif volume.shape == (74,528,528) or volume.shape == (75,528,528) or volume.shape == (78,528,528):\n",
    "                    volume_new, crop_values = crop_vol(volume, crop_tra528_74)\n",
    "    \n",
    "                #Stop iteration if scan is not accounted for in if statements\n",
    "                else:\n",
    "                    print(volume.shape, scan)\n",
    "                    raise ValueError()\n",
    "    \n",
    "            scan_folder = scan\n",
    "            #Stop iteration if cropped volume is wrong size\n",
    "            if volume_new.shape == (46, 162, 141) or volume_new.shape == (20, 210, 135):\n",
    "                save_path = data_folder / 'cropped' / 'test data' / scan_folder.relative_to(data_folder)\n",
    "                save_path.mkdir(parents=True, exist_ok=True)\n",
    "                for i, slice in enumerate(volume_new):\n",
    "                    save_file_path = save_path / f'{i:02d}_{dicom_files[i+crop_values[0][0]].stem}'\n",
    "                    np.save(save_file_path, slice)\n",
    "            else:\n",
    "                print(case)\n",
    "                print(volume.shape)\n",
    "                print(volume_new.shape)\n",
    "                raise ValueError()\n",
    "        n += 1\n",
    "        print(f'Saved case {n}: {scan}')"
   ]
  }
 ],
 "metadata": {
  "kernelspec": {
   "display_name": "Python 3 (ipykernel)",
   "language": "python",
   "name": "python3"
  },
  "language_info": {
   "codemirror_mode": {
    "name": "ipython",
    "version": 3
   },
   "file_extension": ".py",
   "mimetype": "text/x-python",
   "name": "python",
   "nbconvert_exporter": "python",
   "pygments_lexer": "ipython3",
   "version": "3.11.0rc1"
  }
 },
 "nbformat": 4,
 "nbformat_minor": 5
}
