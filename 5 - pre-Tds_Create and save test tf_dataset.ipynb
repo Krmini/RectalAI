{
 "cells": [
  {
   "cell_type": "code",
   "execution_count": null,
   "metadata": {},
   "outputs": [],
   "source": [
    "import numpy as np\n",
    "from pathlib import Path\n",
    "import tensorflow as tf\n",
    "from tensorflow.data import Dataset as Dataset"
   ]
  },
  {
   "cell_type": "code",
   "execution_count": null,
   "metadata": {},
   "outputs": [],
   "source": [
    "base_path = Path(\"/tf/data\")\n",
    "class_ = [['recti'], ['prost']]\n",
    "\n",
    "for folders in class_:\n",
    "    tf.keras.backend.clear_session()\n",
    "    x_sag = []\n",
    "    x_tra = []\n",
    "    labels = []\n",
    "    for folder in folders:\n",
    "        for patient in (base_path/'cropped'/'test data'/folder).iterdir():\n",
    "            dates = []\n",
    "            for date in patient.iterdir():\n",
    "                date = date.name[:8]\n",
    "                if date not in dates:\n",
    "                    dates.append(date)\n",
    "            for date in dates:\n",
    "\n",
    "                #Get the sagital data\n",
    "                for scan in patient.glob(f'*{date}*SAG*'):\n",
    "                    volume_sag = []\n",
    "                    for slice in sorted(scan.iterdir()):\n",
    "                        volume_sag.append(np.load(slice, allow_pickle=True))\n",
    "                \n",
    "                #Get data transversal data: There is either a TRA or a TSE scan per patient. Not both.\n",
    "                for scan in patient.glob(f'*{date}*TRA*'):\n",
    "                    volume_tra = []\n",
    "                    for slice in sorted(scan.iterdir()):\n",
    "                        volume_tra.append(np.load(slice, allow_pickle=True))\n",
    "\n",
    "\n",
    "                for scan in patient.glob(f'*{date}*TSE*'):\n",
    "                    volume_tra = []\n",
    "                    for slice in sorted(scan.iterdir()):\n",
    "                        volume_tra.append(np.load(slice, allow_pickle=True))\n",
    "\n",
    "\n",
    "                x_sag.append(np.array(volume_sag))\n",
    "                x_tra.append(np.array(volume_tra))\n",
    "\n",
    "                if folder == 'recti':\n",
    "\n",
    "                    labels.append(1)\n",
    "                else:\n",
    "\n",
    "                    labels.append(0)\n",
    "    ds_sag = tf.data.Dataset.from_tensor_slices(x_sag)\n",
    "    ds_tra = tf.data.Dataset.from_tensor_slices(x_tra)\n",
    "    ds = tf.data.Dataset.zip((ds_sag, ds_tra))\n",
    "    del ds_sag, ds_tra\n",
    "    ds_lab = tf.data.Dataset.from_tensor_slices(labels)\n",
    "    ds = tf.data.Dataset.zip((ds, ds_lab))\n",
    "    del ds_lab\n",
    "    if folder == 'recti':\n",
    "        save_path = \"/tf/data/cropped/test data/1\"\n",
    "    else:\n",
    "        save_path = \"/tf/data/cropped/test data/0\"\n",
    "    tf.data.Dataset.save(ds,save_path)\n",
    "    print('Saved:',save_path)"
   ]
  }
 ],
 "metadata": {
  "kernelspec": {
   "display_name": "Python 3 (ipykernel)",
   "language": "python",
   "name": "python3"
  },
  "language_info": {
   "codemirror_mode": {
    "name": "ipython",
    "version": 3
   },
   "file_extension": ".py",
   "mimetype": "text/x-python",
   "name": "python",
   "nbconvert_exporter": "python",
   "pygments_lexer": "ipython3",
   "version": "3.11.0rc1"
  }
 },
 "nbformat": 4,
 "nbformat_minor": 4
}
