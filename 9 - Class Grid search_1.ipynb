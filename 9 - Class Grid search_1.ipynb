{
 "cells": [
  {
   "cell_type": "code",
   "execution_count": null,
   "metadata": {},
   "outputs": [],
   "source": [
    "import sys\n",
    "sys.path.append('/tf/data')\n",
    "\n",
    "import torch\n",
    "from general_func import load_dataset\n",
    "from Classification.class_functions import split_ds, concat_data\n",
    "from Classification.Custom_GridSearch import grid_search"
   ]
  },
  {
   "cell_type": "code",
   "execution_count": null,
   "metadata": {},
   "outputs": [],
   "source": [
    "params = {\n",
    "    'images_root_path': '/tf/data/augmented_64_3ch/',\n",
    "    'run': 'Search_1',\n",
    "    'model_save_path': '/tf/data/Classification/ConvNeXt/Grid_Search3/',\n",
    "    'model_save_freq_epochs': 1000,\n",
    "    'seed': 42,\n",
    "\n",
    "    'num_epochs': 150,\n",
    "    'learning_rate': 4e-6,\n",
    "    'weight_decay': 0.05,\n",
    "    'warmup_epochs': 10,\n",
    "    'early_stop': 15,\n",
    "\n",
    "    'batch_size': 32,\n",
    "\n",
    "    'loader_workers': 2,\n",
    "\n",
    "    'drop_rate': 0.5,\n",
    "    'apply_class_weights': True,\n",
    "\n",
    "    #RandAUG\n",
    "    'num_ops': 8,\n",
    "    'magnitude': 20,\n",
    "\n",
    "    #GridMask\n",
    "    'offset': True, #False: square = 0, True: Square = noise\n",
    "    'ratio': 0.5, #how much image to keep\n",
    "    'mode': 1, #0 = keep squares, 1 = cut squares\n",
    "    'prob': 0.5 #Probability to apply transformation \n",
    "    }\n",
    "\n",
    "print('Device:', torch.device(\"cuda\" if torch.cuda.is_available() else \"cpu\"))"
   ]
  },
  {
   "cell_type": "code",
   "execution_count": null,
   "metadata": {},
   "outputs": [],
   "source": [
    "#Predict all validation data = negative = 75,38% accuracy (196/260)\n",
    "#Load data and create dataloaders\n",
    "ds_pos = load_dataset(positive=True)\n",
    "train_scans_pos, val_scans_pos, test_scans_pos = split_ds(ds_pos, train_split = 0.7, val_split = 0.3, seed = params['seed'])\n",
    "ds_neg = load_dataset(positive=False)\n",
    "train_scans_neg, val_scans_neg, test_scans_neg = split_ds(ds_neg, train_split = 0.7, val_split = 0.3, seed = params['seed'])\n",
    "search_n = 0\n",
    "for batch in [8, 16, 32, 64]:\n",
    "    params['batch_size'] = batch\n",
    "    train_loader = concat_data(train_scans_pos, train_scans_neg, batch_size=params['batch_size'], workers=params['loader_workers'])\n",
    "    val_loader = concat_data(val_scans_pos, val_scans_neg, batch_size=params['batch_size'], workers=params['loader_workers'])\n",
    "    test_loader = concat_data(test_scans_pos, test_scans_neg, batch_size=params['batch_size'], workers=params['loader_workers'])\n",
    "\n",
    "    for lr in [4e-2, 4e-3, 4e-4, 4e-5]:\n",
    "        for weight_decay in [0.01, 0.005, 0.001]:\n",
    "            for drop_rate in [0.5, 0.7]:\n",
    "                search_n += 1\n",
    "                params['learning_rate'] = lr\n",
    "                params['weight_decay'] = weight_decay\n",
    "                params['drop_rate'] = drop_rate\n",
    "                grid_search(params, search_n, train_loader, val_loader, test_loader, ds_pos, ds_neg, log_path = params['model_save_path']+params['run'])"
   ]
  }
 ],
 "metadata": {
  "kernelspec": {
   "display_name": "Python 3 (ipykernel)",
   "language": "python",
   "name": "python3"
  },
  "language_info": {
   "codemirror_mode": {
    "name": "ipython",
    "version": 3
   },
   "file_extension": ".py",
   "mimetype": "text/x-python",
   "name": "python",
   "nbconvert_exporter": "python",
   "pygments_lexer": "ipython3",
   "version": "3.11.0rc1"
  }
 },
 "nbformat": 4,
 "nbformat_minor": 4
}
