{
 "cells": [
  {
   "cell_type": "code",
   "execution_count": null,
   "metadata": {},
   "outputs": [],
   "source": [
    "import sys\n",
    "sys.path.append('/tf/data')\n",
    "\n",
    "import torch\n",
    "import torchvision.transforms as transforms\n",
    "import torchvision.utils as vutils\n",
    "import torchvision.utils as vutils\n",
    "import matplotlib.pyplot as plt\n",
    "from pytorch_grad_cam import ScoreCAM\n",
    "from pytorch_grad_cam.utils.image import show_cam_on_image\n",
    "from pytorch_grad_cam.utils.model_targets import ClassifierOutputTarget\n",
    "\n",
    "from Classification.conv_net_model import convnext_large\n",
    "from Classification.class_functions import split_ds, concat_data\n",
    "from general_func import load_dataset"
   ]
  },
  {
   "cell_type": "code",
   "execution_count": null,
   "metadata": {},
   "outputs": [],
   "source": [
    "#Import final model\n",
    "params = {\n",
    "    'best_model_path': '/tf/data/Classification/ConvNeXt/Grid_Search_synth_1/Search_2/62/Epoch_018.zip',\n",
    "    'batch_size': 16,\n",
    "    'loader_workers': 2,\n",
    "    }\n",
    "device = torch.device(\"cuda\" if torch.cuda.is_available() else \"cpu\")\n",
    "train_transform = transforms.Compose([])\n",
    "val_transform = transforms.Compose([])\n",
    "\n",
    "convnext_net = convnext_large(pretrained=False, in_22k=False, transform_train=train_transform, transform_val=val_transform, num_classes=2)\n",
    "model_weights = torch.load(params['best_model_path'], map_location=device)\n",
    "convnext_net.load_state_dict(model_weights)\n",
    "\n",
    "convnext_net.to(device)\n",
    "convnext_net.eval()\n",
    "print(device)"
   ]
  },
  {
   "cell_type": "code",
   "execution_count": null,
   "metadata": {},
   "outputs": [],
   "source": [
    "#Import Tds\n",
    "ds_pos = load_dataset(custom_path='/tf/data/cropped/test data/1')\n",
    "ds_neg = load_dataset(custom_path='/tf/data/cropped/test data/0')\n",
    "\n",
    "train_scans_pos, _, _ = split_ds(ds_pos, train_split = 1, val_split = 0, seed = None)\n",
    "train_scans_neg, _, _ = split_ds(ds_neg, train_split = 1, val_split = 0, seed = None)\n",
    "test_loader = concat_data(train_scans_pos, train_scans_neg, batch_size=params['batch_size'], workers=params['loader_workers'])"
   ]
  },
  {
   "cell_type": "code",
   "execution_count": null,
   "metadata": {},
   "outputs": [],
   "source": [
    "# Function to visualize CAM\n",
    "def show_CAM(model, input, cam_function, cam_class, alpha=0.7, device = device):\n",
    "    model.eval()\n",
    "    image, label = input\n",
    "\n",
    "    print(image.shape)\n",
    "    layers = []\n",
    "    for stage, blocks in zip([0,1,2,3],[3,3,27,3]):\n",
    "        for j in range(blocks):\n",
    "            layers.append(model.stages[stage][j].dwconv)\n",
    "\n",
    "    num_layers = len(layers)\n",
    "    fig, axes = plt.subplots(num_layers, 1, figsize=(26, num_layers))\n",
    "    \n",
    "    out = model(image)\n",
    "    _, predicted_class = torch.max(out, 1)\n",
    "    pred0 = round(float(out[0][0]),3)\n",
    "    pred1 = round(float(out[0][1]),3)\n",
    "    \n",
    "    for idx, layer in enumerate(layers):\n",
    "        targets = [ClassifierOutputTarget(cam_class)]\n",
    "        cam = cam_function(model=model, target_layers=[layer])\n",
    "        grayscale_cam = cam(input_tensor=image, targets=targets)\n",
    "        grid_image = vutils.make_grid(image.cpu(), nrow=1, padding=2, normalize=True).permute(1, 2, 0).numpy()\n",
    "        grayscale_cam = grayscale_cam[0, :]\n",
    "        result_original = show_cam_on_image(grid_image, grayscale_cam, use_rgb=True, image_weight=alpha)\n",
    "        \n",
    "        ax = axes[idx] if num_layers > 1 else axes\n",
    "        ax.imshow(result_original)\n",
    "        ax.axis('off')\n",
    "        ax.set_title(f'Layer: {idx}, CAM Class: {cam_class}', fontsize=12)\n",
    "    \n",
    "    plt.suptitle(f'True label: {label}, Predicted: {int(predicted_class)}   -   Predicted logits [0,1]: [{[pred0,pred1]}]', fontsize=16)\n",
    "    plt.tight_layout(rect=[0, 0.03, 1, 0.95])\n",
    "    plt.show()"
   ]
  },
  {
   "cell_type": "code",
   "execution_count": null,
   "metadata": {},
   "outputs": [],
   "source": [
    "#Find a true positive\n",
    "true_pos = []\n",
    "for images, labels in test_loader:\n",
    "    image, label = images[0], labels[0]\n",
    "    image = image.unsqueeze(0).to(device)\n",
    "    convnext_net.eval()\n",
    "    out = convnext_net(image)\n",
    "    _, predicted_class = torch.max(out, 1)\n",
    "    if label == 1 and label == predicted_class:\n",
    "        true_pos.append(image)\n",
    "        true_pos.append(label)\n",
    "        break\n",
    "\n",
    "print(convnext_net(true_pos[0]), true_pos[1])\n",
    "print(len(true_pos))"
   ]
  },
  {
   "cell_type": "code",
   "execution_count": null,
   "metadata": {},
   "outputs": [],
   "source": [
    "#Create CAM\n",
    "for class_ in [0,1]:\n",
    "    show_CAM(convnext_net, true_pos, cam_class=class_, cam_function=ScoreCAM)"
   ]
  },
  {
   "cell_type": "code",
   "execution_count": null,
   "metadata": {},
   "outputs": [],
   "source": [
    "#Find a true negative\n",
    "true_neg = []\n",
    "for images, labels in test_loader:\n",
    "    image, label = images[0], labels[0]\n",
    "    image = image.unsqueeze(0).to(device)\n",
    "    convnext_net.eval()\n",
    "    out = convnext_net(image)\n",
    "    _, predicted_class = torch.max(out, 1)\n",
    "    if label == 0 and label == predicted_class:\n",
    "        true_neg.append(image)\n",
    "        true_neg.append(label)\n",
    "        break\n",
    "\n",
    "print(convnext_net(true_neg[0]), true_neg[1])\n",
    "print(len(true_neg))"
   ]
  },
  {
   "cell_type": "code",
   "execution_count": null,
   "metadata": {},
   "outputs": [],
   "source": [
    "#Create CAM\n",
    "for class_ in [0,1]:\n",
    "    show_CAM(convnext_net, true_neg, cam_class=class_, cam_function=ScoreCAM)"
   ]
  },
  {
   "cell_type": "code",
   "execution_count": null,
   "metadata": {},
   "outputs": [],
   "source": [
    "#Find a false positive\n",
    "false_pos = []\n",
    "for images, labels in test_loader:\n",
    "    image, label = images[0], labels[0]\n",
    "    image = image.unsqueeze(0).to(device)\n",
    "    convnext_net.eval()\n",
    "    out = convnext_net(image)\n",
    "    _, predicted_class = torch.max(out, 1)\n",
    "    if label == 0 and label != predicted_class:\n",
    "        false_pos.append(image)\n",
    "        false_pos.append(label)\n",
    "        break\n",
    "print(convnext_net(false_pos[0]), false_pos[1])\n",
    "print(len(false_pos))"
   ]
  },
  {
   "cell_type": "code",
   "execution_count": null,
   "metadata": {},
   "outputs": [],
   "source": [
    "#Create CAM\n",
    "for class_ in [0,1]:\n",
    "    show_CAM(convnext_net, false_pos, cam_class=class_, cam_function=ScoreCAM)"
   ]
  },
  {
   "cell_type": "code",
   "execution_count": null,
   "metadata": {},
   "outputs": [],
   "source": [
    "#Find a false negative\n",
    "false_neg = []\n",
    "for images, labels in test_loader:\n",
    "    image, label = images[0], labels[0]\n",
    "    image = image.unsqueeze(0).to(device)\n",
    "    convnext_net.eval()\n",
    "    out = convnext_net(image)\n",
    "    _, predicted_class = torch.max(out, 1)\n",
    "    if label == 1 and label != predicted_class:\n",
    "        false_neg.append(image)\n",
    "        false_neg.append(label)\n",
    "        break\n",
    "\n",
    "print(convnext_net(false_neg[0]), false_neg[1])\n",
    "print(len(false_neg))"
   ]
  },
  {
   "cell_type": "code",
   "execution_count": null,
   "metadata": {},
   "outputs": [],
   "source": [
    "#Create CAM\n",
    "for class_ in [0,1]:\n",
    "    show_CAM(convnext_net, false_neg, cam_class=class_, cam_function=ScoreCAM)"
   ]
  }
 ],
 "metadata": {
  "kernelspec": {
   "display_name": "Python 3 (ipykernel)",
   "language": "python",
   "name": "python3"
  },
  "language_info": {
   "codemirror_mode": {
    "name": "ipython",
    "version": 3
   },
   "file_extension": ".py",
   "mimetype": "text/x-python",
   "name": "python",
   "nbconvert_exporter": "python",
   "pygments_lexer": "ipython3",
   "version": "3.12.2"
  }
 },
 "nbformat": 4,
 "nbformat_minor": 2
}
