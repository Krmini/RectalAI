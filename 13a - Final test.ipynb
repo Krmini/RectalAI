{
 "cells": [
  {
   "cell_type": "code",
   "execution_count": null,
   "metadata": {},
   "outputs": [],
   "source": [
    "import sys\n",
    "sys.path.append('/tf/data')\n",
    "\n",
    "import numpy as np\n",
    "import torch\n",
    "import torch.nn as nn\n",
    "import torchvision.transforms as transforms\n",
    "\n",
    "from general_func import load_dataset\n",
    "from Classification.class_functions import split_ds, concat_data\n",
    "from Classification.conv_net_model import convnext_large\n",
    "\n",
    "from sklearn.metrics import precision_score, recall_score, f1_score"
   ]
  },
  {
   "cell_type": "code",
   "execution_count": null,
   "metadata": {},
   "outputs": [],
   "source": [
    "params = {\n",
    "    'best_model_path': '/tf/data/Classification/ConvNeXt/Grid_Search3/Search_2/29/Epoch_026.zip', #Top model from second grid\n",
    "    'images_root_path': '/tf/data/augmented_64_3ch/',\n",
    "    'run': 'Model_1',\n",
    "    'model_save_path': '/tf/data/Classification/ConvNeXt/',\n",
    "    'model_save_freq_epochs': 1,\n",
    "\n",
    "    'num_epochs': 150,\n",
    "    'learning_rate': 0.004,\n",
    "    'weight_decay': 0.005,\n",
    "    'warmup_epochs': 0,\n",
    "    'early_stop': 25,\n",
    "\n",
    "    'batch_size': 64,\n",
    "\n",
    "    'loader_workers': 2,\n",
    "\n",
    "    'drop_rate': 0.5,\n",
    "    'apply_class_weights': True,\n",
    "\n",
    "    #RandAUG\n",
    "    'num_ops': 8,\n",
    "    'magnitude': 10,\n",
    "\n",
    "    #GridMask\n",
    "    'offset': False, #False: square = 0, True: Square = noise\n",
    "    'ratio': 0.5, #how much image to keep\n",
    "    'mode': 1, #0 = keep squares, 1 = cut squares\n",
    "    'prob': 0.7 #Probability to apply transformation \n",
    "    }\n",
    "\n",
    "device = torch.device(\"cuda\" if torch.cuda.is_available() else \"cpu\")\n",
    "print(device)"
   ]
  },
  {
   "cell_type": "code",
   "execution_count": null,
   "metadata": {
    "scrolled": true
   },
   "outputs": [],
   "source": [
    "train_transform = transforms.Compose([])\n",
    "val_transform = transforms.Compose([])\n",
    "\n",
    "convnext_net = convnext_large(pretrained=False, in_22k=False, transform_train=train_transform, transform_val=val_transform, num_classes=2, drop_path_rate = params['drop_rate'])\n",
    "model_weights = torch.load(params['best_model_path'])\n",
    "convnext_net.load_state_dict(model_weights)\n",
    "\n",
    "convnext_net.to(device)\n",
    "convnext_net.eval()"
   ]
  },
  {
   "cell_type": "code",
   "execution_count": null,
   "metadata": {},
   "outputs": [],
   "source": [
    "ds_pos = load_dataset(custom_path='/tf/data/cropped/test data/1')\n",
    "ds_neg = load_dataset(custom_path='/tf/data/cropped/test data/0')\n",
    "\n",
    "train_scans_pos, _, _ = split_ds(ds_pos, train_split = 1, val_split = 0, seed = None)\n",
    "train_scans_neg, _, _ = split_ds(ds_neg, train_split = 1, val_split = 0, seed = None)\n",
    "test_loader = concat_data(train_scans_pos, train_scans_neg, batch_size=params['batch_size'], workers=params['loader_workers'])\n",
    "\n",
    "if params['apply_class_weights'] == True:\n",
    "    # Calculate class weights\n",
    "    num_class_1_samples = len(ds_pos)\n",
    "    num_class_0_samples = len(ds_neg)\n",
    "    total_samples = num_class_1_samples + num_class_0_samples\n",
    "    class_weights = torch.tensor([total_samples / num_class_0_samples, total_samples / num_class_1_samples], dtype=torch.float).to(device)\n",
    "else:\n",
    "    class_weights = None\n",
    "criterion = nn.CrossEntropyLoss(weight=class_weights)"
   ]
  },
  {
   "cell_type": "code",
   "execution_count": 5,
   "metadata": {},
   "outputs": [],
   "source": [
    "def model_test_metrics1(model, test_loader, criterion, cutoff=0):\n",
    "    device = torch.device(\"cuda\" if torch.cuda.is_available() else \"cpu\")\n",
    "    model.eval()\n",
    "    test_loss = 0.0\n",
    "    correct = 0\n",
    "    total = 0\n",
    "    all_labels = []\n",
    "    all_outputs = []\n",
    "    sure_labels = []\n",
    "    sure_outputs = []\n",
    "\n",
    "    with torch.no_grad():\n",
    "        for images, labels in test_loader:\n",
    "            images = images.to(device)\n",
    "            labels = labels.to(device)\n",
    "            outputs = model(images)\n",
    "            test_loss += criterion(outputs, labels).item()\n",
    "\n",
    "            _, predicted = torch.max(outputs, 1)\n",
    "            true_labels = labels\n",
    "            total += labels.size(0)\n",
    "            correct += (predicted == true_labels).sum().item()\n",
    "\n",
    "            all_labels.extend(true_labels.cpu().numpy())\n",
    "            all_outputs.extend(outputs.cpu().numpy())\n",
    "\n",
    "            # Calculate absolute difference between logits\n",
    "            differences = torch.abs(outputs[:, 0] - outputs[:, 1]).cpu().numpy()\n",
    "\n",
    "            # Determine which samples are \"sure\"\n",
    "            for i, diff in enumerate(differences):\n",
    "                if diff >= cutoff:\n",
    "                    sure_labels.append(true_labels[i].cpu().numpy())\n",
    "                    sure_outputs.append(outputs[i].cpu().numpy())\n",
    "\n",
    "    # Filter out unsure cases\n",
    "    sure_labels = np.array(sure_labels)\n",
    "    sure_outputs = np.array(sure_outputs)\n",
    "    if sure_outputs.size > 0:\n",
    "        sure_predicted = np.argmax(sure_outputs, axis=1)\n",
    "    else:\n",
    "        sure_predicted = np.array([])\n",
    "\n",
    "    # Compute accuracy\n",
    "    accuracy = 100 * np.sum(sure_predicted == sure_labels) / len(sure_labels) if len(sure_labels) > 0 else 0\n",
    "\n",
    "    # Compute Precision, Recall, and F1-score\n",
    "    precision = precision_score(sure_labels, sure_predicted)\n",
    "    recall = recall_score(sure_labels, sure_predicted)\n",
    "    f1 = f1_score(sure_labels, sure_predicted)\n",
    "\n",
    "    # Print statistics\n",
    "    print(f\"Test Loss: {test_loss / len(test_loader):.4f}, \"\n",
    "          f\"Test Accuracy: {accuracy:.2f}%, \"\n",
    "          f\"Precision: {precision:.4f}, \"\n",
    "          f\"Recall: {recall:.4f}, \"\n",
    "          f\"F1-score: {f1:.4f}, \"\n",
    "          f\"Sure cases: {len(sure_labels)} , \"\n",
    "          f\"Unsure cases: {len(all_labels) - len(sure_labels)}\")\n",
    "\n",
    "   \n",
    "    return (test_loss / len(test_loader)), accuracy, precision, recall, f1, len(sure_labels), len(all_labels) - len(sure_labels)\n"
   ]
  },
  {
   "cell_type": "code",
   "execution_count": 6,
   "metadata": {},
   "outputs": [
    {
     "name": "stdout",
     "output_type": "stream",
     "text": [
      "Test Loss: 0.5266, Test Accuracy: 81.68%, Precision: 0.7727, Recall: 0.8763, F1-score: 0.8213, Sure cases: 404 , Unsure cases: 0\n"
     ]
    }
   ],
   "source": [
    "results = model_test_metrics1(convnext_net, test_loader, criterion)"
   ]
  },
  {
   "cell_type": "code",
   "execution_count": 14,
   "metadata": {},
   "outputs": [
    {
     "name": "stdout",
     "output_type": "stream",
     "text": [
      "Test Loss: 0.5135, Test Accuracy: 92.57%, Precision: 0.9342, Recall: 0.8765, F1-score: 0.9045, Sure cases: 202 , Unsure cases: 202\n"
     ]
    }
   ],
   "source": [
    "results = model_test_metrics1(convnext_net, test_loader, criterion, cutoff = 3.29)"
   ]
  }
 ],
 "metadata": {
  "kernelspec": {
   "display_name": "Python 3 (ipykernel)",
   "language": "python",
   "name": "python3"
  }
 },
 "nbformat": 4,
 "nbformat_minor": 4
}
