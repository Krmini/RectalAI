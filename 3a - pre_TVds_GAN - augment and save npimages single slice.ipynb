{
 "cells": [
  {
   "cell_type": "code",
   "execution_count": null,
   "metadata": {},
   "outputs": [],
   "source": [
    "import sys\n",
    "sys.path.append('/tf/data')\n",
    "\n",
    "import os\n",
    "import numpy as np\n",
    "import tensorflow as tf\n",
    "import tensorflow_addons as tfa\n",
    "\n",
    "from tqdm import tqdm\n",
    "\n",
    "from general_func import load_dataset"
   ]
  },
  {
   "cell_type": "code",
   "execution_count": null,
   "metadata": {},
   "outputs": [],
   "source": [
    "#Choose dataset to load\n",
    "# positive = False\n",
    "positive = True\n",
    "savepath = \"/tf/data/augmented_1slice_64_3ch/\"\n",
    "\n",
    "#load dataset\n",
    "BATCH_SIZE = 16\n",
    "\n",
    "ds = load_dataset(positive=positive)\n",
    "if positive == False:\n",
    "    savepath = savepath+'0'\n",
    "else:\n",
    "    savepath = savepath+'1'\n",
    "print(savepath)"
   ]
  },
  {
   "cell_type": "code",
   "execution_count": null,
   "metadata": {},
   "outputs": [],
   "source": [
    "orig_hight = 162\n",
    "orig_width = 141\n",
    "num_slices = 46\n",
    "new_height = 64\n",
    "new_width = 64\n",
    "train_scans = list(np.array([x[1] for x,_ in ds]))\n",
    "train_scans = (np.reshape(train_scans,[len(ds), num_slices, orig_hight, orig_width, 1]))\n",
    "\n",
    "#pick single slice:\n",
    "train_scans = [i[23] for i in train_scans]\n",
    "\n",
    "#Perform data augmentations\n",
    "#Linearly scales each image in image to have mean 0 and variance 1.\n",
    "train_scans = [tf.image.per_image_standardization(scan) for scan in train_scans[:]]\n",
    "print('Scans:',len(train_scans))"
   ]
  },
  {
   "cell_type": "code",
   "execution_count": null,
   "metadata": {},
   "outputs": [],
   "source": [
    "for scan in tqdm(train_scans[:],desc='Rotation'):\n",
    "    for angle in [-0.05, -0.025, 0.025, 0.05]:\n",
    "        train_scans.append(tfa.image.rotate(images = scan, angles = angle, fill_mode='nearest')) #Nearest as fill, to mimic actual image\n",
    "print('Scans:',len(train_scans))"
   ]
  },
  {
   "cell_type": "code",
   "execution_count": null,
   "metadata": {},
   "outputs": [],
   "source": [
    "for scan in tqdm(train_scans[:], desc='Contrast'):\n",
    "    for contrast in [0.8, 0.9, 1.1, 1.2]:\n",
    "        train_scans.append(tf.image.adjust_contrast(scan, contrast_factor = contrast))\n",
    "print('Scans:',len(train_scans))"
   ]
  },
  {
   "cell_type": "code",
   "execution_count": null,
   "metadata": {},
   "outputs": [],
   "source": [
    "# Adjust brightness\n",
    "for scan in tqdm(train_scans[:], desc='Brightness'):\n",
    "    for brightness in [-0.1, 0.1]:\n",
    "        train_scans.append(tf.image.adjust_brightness(scan, delta=brightness)) #could have used tf.image.random_brightness but prefer to use fixes values for reproducibility.\n",
    "print('Scans:', len(train_scans))"
   ]
  },
  {
   "cell_type": "code",
   "execution_count": null,
   "metadata": {},
   "outputs": [],
   "source": [
    "#Flip all images left/right\n",
    "for scan in tqdm(train_scans[:], desc='Flip images'):\n",
    "    train_scans.append(tf.image.flip_left_right(scan))\n",
    "print('Scans:', len(train_scans))"
   ]
  },
  {
   "cell_type": "code",
   "execution_count": null,
   "metadata": {},
   "outputs": [],
   "source": [
    "train_scans = [tf.image.resize(scan, [new_height, new_width]) for scan in tqdm(train_scans, desc = 'Resize')]\n",
    "print('Scans:', len(train_scans))"
   ]
  },
  {
   "cell_type": "code",
   "execution_count": null,
   "metadata": {},
   "outputs": [],
   "source": [
    "#Convert to RGB\n",
    "train_scans = [tf.image.grayscale_to_rgb(scan) for scan in tqdm(train_scans, desc = 'Convert to RGB')]\n",
    "print('Scans:', len(train_scans))"
   ]
  },
  {
   "cell_type": "code",
   "execution_count": null,
   "metadata": {},
   "outputs": [],
   "source": [
    "train_scans_np = [slice.numpy() for slice in train_scans]\n",
    "print(train_scans_np[0].shape)"
   ]
  },
  {
   "cell_type": "code",
   "execution_count": null,
   "metadata": {},
   "outputs": [],
   "source": [
    "os.makedirs(savepath, exist_ok=True)\n",
    "for i, image in enumerate(train_scans_np):\n",
    "    np.save(file = f\"{savepath}/image_{i:05d}\",\n",
    "            arr = image)\n",
    "\n",
    "print('Images saved to',savepath)"
   ]
  }
 ],
 "metadata": {
  "kernelspec": {
   "display_name": "Python 3 (ipykernel)",
   "language": "python",
   "name": "python3"
  },
  "language_info": {
   "codemirror_mode": {
    "name": "ipython",
    "version": 3
   },
   "file_extension": ".py",
   "mimetype": "text/x-python",
   "name": "python",
   "nbconvert_exporter": "python",
   "pygments_lexer": "ipython3",
   "version": "3.11.0rc1"
  }
 },
 "nbformat": 4,
 "nbformat_minor": 4
}
